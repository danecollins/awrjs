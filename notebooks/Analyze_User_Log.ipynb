{
 "cells": [
  {
   "cell_type": "code",
   "execution_count": null,
   "metadata": {
    "button": false,
    "collapsed": false,
    "deletable": true,
    "new_sheet": false,
    "run_control": {
     "read_only": false
    }
   },
   "outputs": [],
   "source": [
    "%matplotlib inline\n",
    "import matplotlib.pyplot as plt\n",
    "import matplotlib.patches as mpatches\n",
    "import numpy as np\n",
    "import pandas as pd\n",
    "import datetime\n",
    "%cd /Users/dane/src/awrjs\n",
    "import js.js_pd as js_pd\n",
    "c_xem = '#063CBF'\n",
    "c_ana = '#EA3C00'"
   ]
  },
  {
   "cell_type": "code",
   "execution_count": null,
   "metadata": {
    "button": false,
    "collapsed": false,
    "deletable": true,
    "new_sheet": false,
    "run_control": {
     "read_only": false
    }
   },
   "outputs": [],
   "source": [
    "sim = js_pd.read_and_validate('/Users/dane//data/a/js/qorvo/2017-05-25_logs/dfw04.csv')\n",
    "\n",
    "# in this data set there are a couple of points in october we want to trim off\n",
    "sim = sim[sim.submitted_date >= '2017-02-01'].copy()\n",
    "summary = {}\n",
    "summary['start'] = sim.iloc[0].submitted_date\n",
    "summary['end'] = sim.iloc[len(sim)-1].submitted_date\n",
    "summary['sub_cnt'] = len(sim)\n",
    "summary['comp_cnt'] = sim.duration_m.count()\n",
    "summary['users'] = len(sim.user.value_counts())\n",
    "summary['tot_hrs'] = int(sim.duration_m.sum() / 60.0)\n",
    "summary['big'] = sim.working_set.max() / 1000.\n",
    "summary['machines'] = len(sim.host.value_counts())"
   ]
  },
  {
   "cell_type": "code",
   "execution_count": null,
   "metadata": {
    "button": false,
    "collapsed": false,
    "deletable": true,
    "new_sheet": false,
    "run_control": {
     "read_only": false
    }
   },
   "outputs": [],
   "source": [
    "tmp = sim.convert_objects(convert_numeric=True) # this hoses exit_code\n",
    "tmp.exit_code = sim.exit_code\n",
    "sim = tmp\n",
    "sim.submitted_date = pd.to_datetime(sim.submitted_date)\n",
    "sim.start_date = pd.to_datetime(sim.start_date)"
   ]
  },
  {
   "cell_type": "code",
   "execution_count": null,
   "metadata": {
    "button": false,
    "collapsed": false,
    "deletable": true,
    "new_sheet": false,
    "run_control": {
     "read_only": false
    }
   },
   "outputs": [],
   "source": [
    "initial_month = sim.iloc[0].submitted_date.month\n",
    "initial_year  = sim.iloc[0].submitted_date.year\n",
    "# we want months to start at 1 instead of 0\n",
    "#sim['sub_month'] = (sim['submitted_date'].apply(lambda x: x.year) - initial_year) * 12 + sim.submitted_date.apply(lambda x: x.month) - initial_month + 1\n",
    "sim['sub_month'] = sim.submitted_date.apply(lambda x: \"{:.2f}\".format(x.year + x.month / 100.))\n",
    "sim.columns"
   ]
  },
  {
   "cell_type": "markdown",
   "metadata": {
    "button": false,
    "collapsed": false,
    "deletable": true,
    "new_sheet": false,
    "run_control": {
     "read_only": false
    }
   },
   "source": [
    "# Log File Statistics"
   ]
  },
  {
   "cell_type": "code",
   "execution_count": null,
   "metadata": {
    "button": false,
    "collapsed": false,
    "deletable": true,
    "new_sheet": false,
    "run_control": {
     "read_only": false
    }
   },
   "outputs": [],
   "source": [
    "print(\"\"\"\n",
    "The log files analyzed contain data from {start} to {end}. \n",
    "\n",
    "There are a total of {sub_cnt:,} jobs submitted of which {comp_cnt:,} completed. \n",
    "\n",
    "There are {users} separate users that have run jobs for a total of {tot_hrs:,} hours of \n",
    "of simulation on {machines} machines.\n",
    "\n",
    "The largest job required {big} Gb of memory.\n",
    "\"\"\".format(**summary)\n",
    "     )"
   ]
  },
  {
   "cell_type": "markdown",
   "metadata": {
    "button": false,
    "collapsed": false,
    "deletable": true,
    "new_sheet": false,
    "run_control": {
     "read_only": false
    }
   },
   "source": [
    "# Job Submission Statistics\n",
    "\n",
    "The graphs plot the number of jobs and average simulation time per month.  Month 1 is defined as the first month in the log file.\n",
    "\n",
    "### Jobs per Month"
   ]
  },
  {
   "cell_type": "code",
   "execution_count": null,
   "metadata": {
    "button": false,
    "collapsed": false,
    "deletable": true,
    "new_sheet": false,
    "run_control": {
     "read_only": false
    }
   },
   "outputs": [],
   "source": [
    "# axiem_bym = sim[sim.simulator=='AXIEM'].groupby('sub_month')\n",
    "# analyst_bym = sim[sim.simulator=='Analyst'].groupby('sub_month')\n",
    "# fig = plt.gcf()\n",
    "# fig.set_size_inches(12,10)\n",
    "# axiem = axiem_bym.submitted_date.count()\n",
    "# analyst = analyst_bym.submitted_date.count()\n",
    "# plt.figure(1)\n",
    "# plt.subplot(211)\n",
    "# plt.bar(axiem, axiem, .8, color=c_xem)\n",
    "# plt.title('AXIEM Jobs Submitted per Month')\n",
    "# plt.ylabel('Number of Jobs')\n",
    "# plt.subplot(212)\n",
    "# plt.bar(analyst.index-0.4, analyst, .8, color=c_ana)\n",
    "# plt.title('Analyst Jobs Submitted per Month')\n",
    "# plt.xlabel('Months Since Start of Log')\n",
    "# plt.ylabel('Number of Jobs')\n",
    "# plt.show()\n",
    "\n",
    "em_pvt = pd.pivot_table(sim, index=['sub_month'], columns=['simulator'], values=['duration_m'],\n",
    "                        aggfunc=[len, sum, np.mean], fill_value=0)\n",
    "em_pvt.head()\n",
    "#em_pvt['len', 'duration_m', 'AXIEM'].plot(kind='barh')\n",
    "num_sims = len(sim.simulator.unique())\n",
    "num_months = len(sim.sub_month.unique())\n",
    "\n",
    "\n",
    "fig, ax = plt.subplots(num_sims, 2, figsize=(14, 12))\n",
    "for i, sim_name in enumerate(sim.simulator.unique()):\n",
    "    ind = np.arange(num_months)\n",
    "    ax[i, 0].bar(ind, em_pvt['len', 'duration_m', sim_name], width=0.35, color=c_xem)\n",
    "    ax[i, 0].set(xlabel='Month',\n",
    "              ylabel='Numer of {} Jobs'.format(sim_name),\n",
    "              xticks=ind+.35/2,\n",
    "              xticklabels=em_pvt['len', 'duration_m', sim_name].index)\n",
    "    ax[i, 1].bar(ind, em_pvt['sum', 'duration_m', sim_name]/60., width=0.35, color=c_xem)\n",
    "    ax[i, 1].set(xlabel='Month',\n",
    "              ylabel='Total Hours of {} Jobs'.format(sim_name),\n",
    "              xticks=ind+.35/2,\n",
    "              xticklabels=em_pvt['sum', 'duration_m', sim_name].index)\n",
    "ax[0,0].set_title('Number of Jobs')\n",
    "ax[0,1].set_title('Total Hours')\n",
    "plt.show()"
   ]
  },
  {
   "cell_type": "markdown",
   "metadata": {
    "button": false,
    "deletable": true,
    "new_sheet": false,
    "run_control": {
     "read_only": false
    }
   },
   "source": [
    "### Simulation Time per Month"
   ]
  },
  {
   "cell_type": "code",
   "execution_count": null,
   "metadata": {
    "button": false,
    "collapsed": false,
    "deletable": true,
    "new_sheet": false,
    "run_control": {
     "read_only": false
    }
   },
   "outputs": [],
   "source": [
    "fig, ax = plt.subplots(num_sims, 1, figsize=(14, 12))\n",
    "for i, sim_name in enumerate(sim.simulator.unique()):\n",
    "    ind = np.arange(num_months)\n",
    "    ax[i].bar(ind, em_pvt['mean', 'duration_m', sim_name], width=0.35, color=c_xem)\n",
    "    ax[i].set(xlabel='Month',\n",
    "              ylabel='{} Jobs (min)'.format(sim_name),\n",
    "              xticks=ind+.35/2,\n",
    "              xticklabels=em_pvt['mean', 'duration_m', sim_name].index)\n",
    "ax[0].set_title('Average Duration of Jobs')\n",
    "plt.show()"
   ]
  },
  {
   "cell_type": "markdown",
   "metadata": {
    "button": false,
    "deletable": true,
    "new_sheet": false,
    "run_control": {
     "read_only": false
    }
   },
   "source": [
    "### Simulation Durations\n",
    "\n",
    "To get a better idea what simulations look like, here have selected time range intervals to break the simulations into\n",
    "and plot the number of simulations in those range bins."
   ]
  },
  {
   "cell_type": "code",
   "execution_count": null,
   "metadata": {
    "button": false,
    "collapsed": false,
    "deletable": true,
    "new_sheet": false,
    "run_control": {
     "read_only": false
    }
   },
   "outputs": [],
   "source": [
    "bins = [0, 1, 5, 10, 60, 300, 5000]\n",
    "comp = js_pd.successful_jobs(sim)\n",
    "axiem, bins = np.histogram(comp[comp.simulator=='AXIEM'].duration_m, bins=bins)\n",
    "analyst, bins = np.histogram(comp[comp.simulator=='Analyst'].duration_m, bins=bins)\n",
    "\n",
    "fig = plt.gcf()\n",
    "fig.set_size_inches(16,6)\n",
    "\n",
    "plt.subplot(121)\n",
    "plt.bar(np.arange(len(bins)-1), axiem, .6, color=c_xem)\n",
    "plt.gca().set_xticklabels(['<1m', '1-5', '5-10', '10-60', '60-300', '>300'])\n",
    "plt.gca().set_xticks(np.arange(len(bins)-1)+.3)\n",
    "plt.xlabel('Time range in minutes')\n",
    "plt.ylabel('Number of Jobs')\n",
    "plt.title('AXIEM Jobs by Duration')\n",
    "\n",
    "plt.subplot(122)\n",
    "plt.bar(np.arange(len(bins)-1), analyst, .6, color=c_ana)\n",
    "plt.gca().set_xticklabels(['<1m', '1-5', '5-10', '10-60', '60-300', '>300'])\n",
    "plt.gca().set_xticks(np.arange(len(bins)-1)+.3)\n",
    "plt.title('Analyst Jobs by Duration')\n",
    "plt.xlabel('Time range in minutes')\n",
    "plt.ylabel('Number of Jobs')\n",
    "plt.show()"
   ]
  },
  {
   "cell_type": "markdown",
   "metadata": {
    "button": false,
    "deletable": true,
    "new_sheet": false,
    "run_control": {
     "read_only": false
    }
   },
   "source": [
    "### Memory Used\n",
    "\n",
    "In the same way we can select memory ranges for the peak memory used by the simulations. Because there is such a large range of memory requirements, we have plotted the large jobs separately."
   ]
  },
  {
   "cell_type": "code",
   "execution_count": null,
   "metadata": {
    "button": false,
    "collapsed": false,
    "deletable": true,
    "new_sheet": false,
    "run_control": {
     "read_only": false
    }
   },
   "outputs": [],
   "source": [
    "comp_v12 = comp[ comp.working_set.notnull()]  # to looks at mem only keep v12+\n",
    "\n",
    "bins1 = [0, 500, 1000, 2000, 4000, 8000, 90000]\n",
    "axiem, bins = np.histogram(comp_v12[comp_v12.simulator=='AXIEM'].working_set, bins=bins1)\n",
    "bins2 = [0, 1000, 2000, 4000, 8000, 16000, 90000]\n",
    "analyst, bins = np.histogram(comp_v12[comp_v12.simulator=='Analyst'].working_set, bins=bins2)\n",
    "\n",
    "fig = plt.gcf()\n",
    "fig.set_size_inches(16,6)\n",
    "\n",
    "\n",
    "plt.subplot(121)\n",
    "plt.bar(np.arange(len(bins1)-1), axiem, .6, color=c_xem)\n",
    "plt.gca().set_xticklabels(['<500m', '.5-1G', '1-2G', '2-4G', '4-8G', '>8G'])\n",
    "plt.gca().set_xticks(np.arange(len(bins)-1)+.3)\n",
    "plt.title('AXIEM Jobs by Peak Working Set')\n",
    "\n",
    "\n",
    "plt.subplot(122)\n",
    "plt.bar(np.arange(len(bins2)-1), analyst, .6, color=c_ana)\n",
    "plt.gca().set_xticklabels(['<1G', '1-2G', '2-4G', '4-8G', '8-16G', '>16G'])\n",
    "plt.gca().set_xticks(np.arange(len(bins)-1)+.3)\n",
    "plt.title('Analyst Jobs by Peak Working Set')\n",
    "plt.show()"
   ]
  },
  {
   "cell_type": "code",
   "execution_count": null,
   "metadata": {
    "button": false,
    "collapsed": false,
    "deletable": true,
    "new_sheet": false,
    "run_control": {
     "read_only": false
    }
   },
   "outputs": [],
   "source": [
    "# Look at large memory jobs only\n",
    "comp_large = comp[ comp.working_set >= 8000]  # to looks at mem only keep v12\n",
    "\n",
    "bins1 = list(range(8000, 21000, 2000))\n",
    "axiem, bins = np.histogram(comp_large[comp_large.simulator=='AXIEM'].working_set, bins=bins1)\n",
    "bins2 = list(range(8000, 21000, 2000))\n",
    "analyst, bins = np.histogram(comp_large[comp_large.simulator=='Analyst'].working_set, bins=bins2)\n",
    "\n",
    "fig = plt.gcf()\n",
    "fig.set_size_inches(16,6)\n",
    "\n",
    "\n",
    "plt.subplot(121)\n",
    "plt.bar(np.arange(len(bins1)-1), axiem, .6, color=c_xem)\n",
    "plt.gca().set_xticklabels(['8-10G', '10-12G', '12-14G', '14-16G', '16-18G', '18-20G'])\n",
    "plt.gca().set_xticks(np.arange(len(bins)-1)+.3)\n",
    "plt.title('AXIEM Jobs by Peak Working Set (large jobs)')\n",
    "\n",
    "\n",
    "plt.subplot(122)\n",
    "plt.bar(np.arange(len(bins2)-1), analyst, .6, color=c_ana)\n",
    "plt.gca().set_xticklabels(['8-10G', '10-12G', '12-14G', '14-16G', '16-18G', '18-20G'])\n",
    "plt.gca().set_xticks(np.arange(len(bins)-1)+.3)\n",
    "plt.title('Analyst Jobs by Peak Working Set (large jobs)')\n",
    "plt.show()"
   ]
  },
  {
   "cell_type": "markdown",
   "metadata": {
    "button": false,
    "deletable": true,
    "new_sheet": false,
    "run_control": {
     "read_only": false
    }
   },
   "source": [
    "### Memory versus Runtime\n",
    "\n",
    "To get an appreciation of whether simulation time and memory consumption are related we plot the jobs runtime vs memory used.  Below each dot represents one completed simulation."
   ]
  },
  {
   "cell_type": "code",
   "execution_count": null,
   "metadata": {
    "button": false,
    "collapsed": false,
    "deletable": true,
    "new_sheet": false,
    "run_control": {
     "read_only": false
    }
   },
   "outputs": [],
   "source": [
    "fig = plt.gcf()\n",
    "fig.set_size_inches(18,10) \n",
    "d = comp_v12[ comp_v12.duration_m < 3000 ]\n",
    "color = d.simulator.apply(lambda x: c_xem if x=='AXIEM' else c_ana)\n",
    "plt.scatter(d.duration_m, d.working_set/1024, c=color, s=80, alpha=0.5)\n",
    "plt.ylabel('Peak Working Set (Gb)')\n",
    "plt.xlabel('Runtime (minutes)')\n",
    "plt.title('Runtime vs Memory by Simulator')\n",
    "xem_patch = mpatches.Patch(color=c_xem, label='AXIEM')\n",
    "ana_patch = mpatches.Patch(color=c_ana, label='Analyst')\n",
    "plt.legend(handles=[xem_patch, ana_patch], bbox_to_anchor=[0.7,0.8])\n",
    "plt.show()"
   ]
  },
  {
   "cell_type": "markdown",
   "metadata": {
    "button": false,
    "deletable": true,
    "new_sheet": false,
    "run_control": {
     "read_only": false
    }
   },
   "source": [
    "### Memory versus Time\n",
    "\n",
    "Another point of interest is seeing the memory used over time to see if jobs are gettng larger.  We can see this by plotting the peak memory per job versus the day (the number of days since the log started). \n"
   ]
  },
  {
   "cell_type": "code",
   "execution_count": null,
   "metadata": {
    "button": false,
    "collapsed": false,
    "deletable": true,
    "new_sheet": false,
    "run_control": {
     "read_only": false
    }
   },
   "outputs": [],
   "source": [
    "fig = plt.gcf()\n",
    "fig.set_size_inches(18,10) \n",
    "x_ind = comp_v12.submitted_date.apply(lambda x: (x-comp_v12.iloc[0].submitted_date).days)\n",
    "color = d.simulator.apply(lambda x: c_xem if x=='AXIEM' else c_ana)\n",
    "plt.scatter(x_ind, comp_v12.working_set/1024, c=color, s=80, alpha=0.5)\n",
    "plt.ylabel('Peak Working Set (Gb)')\n",
    "plt.xlabel('Days Since Log Started')\n",
    "plt.title('Peak Working Set over Time')\n",
    "# plt.xlim([250,600])\n",
    "# plt.ylim([0,30])\n",
    "xem_patch = mpatches.Patch(color=c_xem, label='AXIEM')\n",
    "ana_patch = mpatches.Patch(color=c_ana, label='Analyst')\n",
    "plt.legend(handles=[xem_patch, ana_patch], bbox_to_anchor=[0.85,0.95])\n",
    "plt.show()"
   ]
  },
  {
   "cell_type": "markdown",
   "metadata": {
    "button": false,
    "deletable": true,
    "new_sheet": false,
    "run_control": {
     "read_only": false
    }
   },
   "source": [
    "### Queue Wait Times\n",
    "\n",
    "Here we look at the wait time, defined as the time from job submission until simulation starts. This gives us a perspective at what could be saved with additional simulation resources."
   ]
  },
  {
   "cell_type": "code",
   "execution_count": null,
   "metadata": {
    "button": false,
    "collapsed": false,
    "deletable": true,
    "new_sheet": false,
    "run_control": {
     "read_only": false
    }
   },
   "outputs": [],
   "source": [
    "fig = plt.gcf()\n",
    "fig.set_size_inches(12,8)\n",
    "bins = [0, 1, 5, 30, 60, 240, 20000]\n",
    "data, bins = np.histogram(comp.wait_m, bins=bins)\n",
    "plt.bar(np.arange(len(bins)-1), data, .6)\n",
    "plt.gca().set_xticklabels(['<1m', '1-5m', '5-30m', '30-60m', '1-4h', '>4h'])\n",
    "plt.gca().set_xticks(np.arange(len(bins)-1)+.3)\n",
    "plt.title('Simulation Wait Times (time from submit to start)')\n",
    "plt.ylabel('Number of jobs')\n",
    "plt.show()\n",
    "print('Total wait time was {:,} hours'.format(int(sim.wait_m.sum()/60.0)))"
   ]
  },
  {
   "cell_type": "markdown",
   "metadata": {
    "button": false,
    "deletable": true,
    "new_sheet": false,
    "run_control": {
     "read_only": false
    }
   },
   "source": [
    "### Change in Wait Times\n",
    "\n",
    "We can also look at how wait times in a month vary over time by looking at the total wait time per month."
   ]
  },
  {
   "cell_type": "code",
   "execution_count": null,
   "metadata": {
    "button": false,
    "collapsed": false,
    "deletable": true,
    "new_sheet": false,
    "run_control": {
     "read_only": false
    },
    "scrolled": true
   },
   "outputs": [],
   "source": [
    "wait_pvt = comp.pivot_table(index=['sub_month'], values='wait_m', aggfunc=sum)\n",
    "fig = plt.gcf()\n",
    "fig.set_size_inches(12,5)\n",
    "x_ind = np.arange(len(wait_pvt))\n",
    "\n",
    "plt.bar(x_ind, wait_pvt/60., width=0.8)\n",
    "plt.title('Total Wait Time per Month')\n",
    "plt.ylabel('Wait Time (hours)')\n",
    "plt.xlabel('Months Since Start of Log')\n",
    "plt.gca().set(xlabel='Month',\n",
    "        ylabel='Wait Time (hours)',\n",
    "        xticks=ind+.8/2,\n",
    "        xticklabels=wait_pvt.index)\n",
    "plt.show()"
   ]
  },
  {
   "cell_type": "markdown",
   "metadata": {},
   "source": [
    "# Job Completion Statistics\n",
    "\n",
    "### Jobs by Exit Type"
   ]
  },
  {
   "cell_type": "code",
   "execution_count": null,
   "metadata": {
    "collapsed": false
   },
   "outputs": [],
   "source": [
    "js_pd.jobs_by_type(sim)"
   ]
  },
  {
   "cell_type": "markdown",
   "metadata": {
    "button": false,
    "deletable": true,
    "new_sheet": false,
    "run_control": {
     "read_only": false
    }
   },
   "source": [
    "# Data by User\n",
    "\n",
    "Here are some breakdowns by user.\n",
    "\n",
    "### Simulation Time"
   ]
  },
  {
   "cell_type": "code",
   "execution_count": null,
   "metadata": {
    "button": false,
    "collapsed": false,
    "deletable": true,
    "new_sheet": false,
    "run_control": {
     "read_only": false
    }
   },
   "outputs": [],
   "source": [
    "by_user = comp.groupby('user')\n",
    "by_user_hours = by_user.duration_m.sum() / 60.0\n",
    "pos = np.arange(len(by_user_hours))+.5\n",
    "fig = plt.gcf()\n",
    "fig.set_size_inches(16,6)     \n",
    "plt.barh(pos,by_user_hours, align='center')\n",
    "plt.yticks(pos, by_user_hours.index)\n",
    "plt.xlabel('Simulation Time (hours)')\n",
    "plt.title('Total Simulation Time by User')\n",
    "plt.show()"
   ]
  },
  {
   "cell_type": "markdown",
   "metadata": {
    "button": false,
    "deletable": true,
    "new_sheet": false,
    "run_control": {
     "read_only": false
    }
   },
   "source": [
    "### Number of Jobs"
   ]
  },
  {
   "cell_type": "code",
   "execution_count": null,
   "metadata": {
    "button": false,
    "collapsed": false,
    "deletable": true,
    "new_sheet": false,
    "run_control": {
     "read_only": false
    }
   },
   "outputs": [],
   "source": [
    "by_user = comp.groupby('user')\n",
    "by_user_hours = by_user.user.count()\n",
    "pos = np.arange(len(by_user_hours))+.5\n",
    "fig = plt.gcf()\n",
    "fig.set_size_inches(16,6)     \n",
    "plt.barh(pos,by_user_hours, align='center')\n",
    "plt.yticks(pos, by_user_hours.index)\n",
    "plt.xlabel('Number of Simulation Runs')\n",
    "plt.title('Simulations by User')\n",
    "plt.show()"
   ]
  },
  {
   "cell_type": "markdown",
   "metadata": {
    "button": false,
    "deletable": true,
    "new_sheet": false,
    "run_control": {
     "read_only": false
    }
   },
   "source": [
    "### Usage over Time"
   ]
  },
  {
   "cell_type": "code",
   "execution_count": null,
   "metadata": {
    "button": false,
    "collapsed": false,
    "deletable": true,
    "new_sheet": false,
    "run_control": {
     "read_only": false
    }
   },
   "outputs": [],
   "source": [
    "data = comp[~comp.user.isin(['qwang','ccampbell','bloran','lbeumergray', 'll024659', 'dwohlert'])]\n",
    "x=pd.pivot_table(data, index=['user'], columns='sub_month', values='duration_m', aggfunc=len, fill_value=0)\n",
    "y=pd.pivot_table(data, index=['user'], columns='sub_month', values='duration_m', aggfunc=sum, fill_value=0)\n",
    "graphs = len(x.index)\n",
    "j=1\n",
    "plt.figure(1, figsize=(14,graphs*3))\n",
    "for user in x.index:\n",
    "    plt.subplot(graphs, 2, j)\n",
    "    j += 1\n",
    "    plt.plot(x.T[user], linewidth=2)\n",
    "    plt.title('Jobs Run per Month for {}'.format(user))\n",
    "    plt.subplot(graphs, 2, j)\n",
    "    j += 1\n",
    "    plt.plot(y.T[user], linewidth=2)\n",
    "    plt.title('Total Sim Time per Month for {}'.format(user))\n",
    "plt.show()"
   ]
  },
  {
   "cell_type": "markdown",
   "metadata": {
    "button": false,
    "deletable": true,
    "new_sheet": false,
    "run_control": {
     "read_only": false
    }
   },
   "source": [
    "# Data by Computer\n",
    "\n",
    "### Simulation Time"
   ]
  },
  {
   "cell_type": "code",
   "execution_count": null,
   "metadata": {
    "button": false,
    "collapsed": false,
    "deletable": true,
    "new_sheet": false,
    "run_control": {
     "read_only": false
    }
   },
   "outputs": [],
   "source": [
    "by_host = comp[comp.host != 'local service'].groupby('host')\n",
    "by_host_hours = by_host.duration_m.sum() / 60.0\n",
    "pos = np.arange(len(by_host_hours))+.5\n",
    "fig = plt.gcf()\n",
    "fig.set_size_inches(16,6)     \n",
    "plt.barh(pos,by_host_hours, align='center')\n",
    "plt.yticks(pos, by_host_hours.index)\n",
    "plt.xlabel('Simulation Time (hours)')\n",
    "plt.title('Total Simulation Time by Computer')\n",
    "plt.show()"
   ]
  },
  {
   "cell_type": "markdown",
   "metadata": {
    "button": false,
    "deletable": true,
    "new_sheet": false,
    "run_control": {
     "read_only": false
    }
   },
   "source": [
    "### Number of Jobs"
   ]
  },
  {
   "cell_type": "code",
   "execution_count": null,
   "metadata": {
    "button": false,
    "collapsed": false,
    "deletable": true,
    "new_sheet": false,
    "run_control": {
     "read_only": false
    }
   },
   "outputs": [],
   "source": [
    "by_host = comp[(comp.host != 'local service') & (comp.simulator == 'Analyst')].groupby('host')\n",
    "by_host_count = by_host.host.count()\n",
    "pos = np.arange(len(by_host_count))+.5\n",
    "fig = plt.gcf()\n",
    "fig.set_size_inches(16,6)     \n",
    "plt.barh(pos,by_host_count, align='center')\n",
    "plt.yticks(pos, by_host_count.index)\n",
    "plt.xlabel('Number of Simulation Runs')\n",
    "plt.title('Simulations by Host')\n",
    "plt.show()"
   ]
  },
  {
   "cell_type": "markdown",
   "metadata": {
    "button": false,
    "collapsed": true,
    "deletable": true,
    "new_sheet": false,
    "run_control": {
     "read_only": false
    }
   },
   "source": [
    "# How Averages Change Over Time\n",
    "\n",
    "The scatter plot of memory does a good job of tracking evolution of the large jobs over time but\n",
    "does not give us much insight on the average job.  For this a box plot can provide more insight.\n",
    "\n",
    "*Note:* Since there are a large number of outliers these graphs are zoomed in (in the Y direction) to \n",
    "allow the boxes to be clearly seen."
   ]
  },
  {
   "cell_type": "code",
   "execution_count": null,
   "metadata": {
    "button": false,
    "collapsed": false,
    "deletable": true,
    "new_sheet": false,
    "run_control": {
     "read_only": false
    }
   },
   "outputs": [],
   "source": [
    "data = sim[(sim.simulator=='AXIEM') & (sim.sub_month >= 10)]\n",
    "fig, (ax1, ax2) = plt.subplots(2,1)\n",
    "fig.set_size_inches(12,10)\n",
    "ax = data.boxplot(column='working_set', by='sub_month', ax=ax1, grid=False)\n",
    "ax.set_xlabel('')\n",
    "ax.set_ylabel('Memory (Mb)')\n",
    "ax.set_ylim([0,8000])\n",
    "ax.set_title('Memory and Duration of Jobs over Time')\n",
    "\n",
    "ax = data.boxplot(column='duration_m', by='sub_month', ax=ax2, grid=False)\n",
    "ax.set_xlabel('Month Since Beginning of Log')\n",
    "ax.set_ylabel('Job Duration (minutes)')\n",
    "ax.set_ylim([0,100])\n",
    "ax.set_title('')\n",
    "\n",
    "plt.show()"
   ]
  },
  {
   "cell_type": "markdown",
   "metadata": {},
   "source": [
    "# Network Copy Performance\n",
    "\n",
    "After a simulation is done the results must be copied back to the user.  Over a typical network this time is small but is it network dependent. An interesting thing to look at is the average time to copy results back per day (since network problems tend to last longer than just 1 job).\n",
    "\n",
    "In this case, we combine all the successful jobs by day and look at the number of jobs, the average copy time in minutes and the longest copy time in minutes. Then we just keep the days where the average copy time was over 1 minute.\n"
   ]
  },
  {
   "cell_type": "code",
   "execution_count": null,
   "metadata": {
    "collapsed": false
   },
   "outputs": [],
   "source": [
    "piv = pd.pivot_table(comp, index=[\"start_date\"], values=['results_copy_m'],\n",
    "                     aggfunc=[len, np.mean, max], fill_value=0)\n",
    "piv[piv['mean']['results_copy_m'] > 1]"
   ]
  },
  {
   "cell_type": "markdown",
   "metadata": {
    "button": false,
    "deletable": true,
    "new_sheet": false,
    "run_control": {
     "read_only": false
    }
   },
   "source": [
    "from this we see that that coy times are largely insignificant on most days but there are specific days when something is going wrong.  This is something that may be correlated with networking issues.  The recommendation here is to collect more data from users and see if this data tracks with other networking issues or if it is perculiar to the job scheduler.\n",
    "\n",
    "# Final Notes\n",
    "\n",
    "The raw data is available as a CSV file to allow you to perform additional analysis.\n",
    "\n",
    "This section provides some of the above data in tabular form for those interested.\n",
    "\n",
    "**NOTE: In the tables below 'len' is an abbreviation for lenght and denotes the count.  For example in the first table the 'len duration_m' denotes the number of jobs.  Likewise, 'sum duration_m' denotes the total sum of the durations in minutes.**\n",
    "\n",
    "### User Information"
   ]
  },
  {
   "cell_type": "code",
   "execution_count": null,
   "metadata": {
    "button": false,
    "collapsed": false,
    "deletable": true,
    "new_sheet": false,
    "run_control": {
     "read_only": false
    }
   },
   "outputs": [],
   "source": [
    "pd.pivot_table(sim, index=['user'],  columns=['simulator'], values=['duration_m'], aggfunc=[len, sum, np.median], fill_value=0)"
   ]
  },
  {
   "cell_type": "markdown",
   "metadata": {
    "button": false,
    "deletable": true,
    "new_sheet": false,
    "run_control": {
     "read_only": false
    }
   },
   "source": [
    "### Host Information"
   ]
  },
  {
   "cell_type": "code",
   "execution_count": null,
   "metadata": {
    "button": false,
    "collapsed": false,
    "deletable": true,
    "new_sheet": false,
    "run_control": {
     "read_only": false
    }
   },
   "outputs": [],
   "source": [
    "pd.pivot_table(sim, index=['host'],  columns=['simulator'], values=['duration_m'], aggfunc=[len, sum, np.median], fill_value=0)"
   ]
  },
  {
   "cell_type": "markdown",
   "metadata": {
    "button": false,
    "deletable": true,
    "new_sheet": false,
    "run_control": {
     "read_only": false
    }
   },
   "source": [
    "### Simulator Information"
   ]
  },
  {
   "cell_type": "code",
   "execution_count": null,
   "metadata": {
    "button": false,
    "collapsed": false,
    "deletable": true,
    "new_sheet": false,
    "run_control": {
     "read_only": false
    }
   },
   "outputs": [],
   "source": [
    "pd.pivot_table(sim, index=['simulator'],  values=['duration_m'], aggfunc=[len, sum, np.median], fill_value=0)"
   ]
  }
 ],
 "metadata": {
  "kernelspec": {
   "display_name": "Python 3",
   "language": "python",
   "name": "python3"
  },
  "language_info": {
   "codemirror_mode": {
    "name": "ipython",
    "version": 3
   },
   "file_extension": ".py",
   "mimetype": "text/x-python",
   "name": "python",
   "nbconvert_exporter": "python",
   "pygments_lexer": "ipython3",
   "version": "3.5.0"
  }
 },
 "nbformat": 4,
 "nbformat_minor": 0
}
